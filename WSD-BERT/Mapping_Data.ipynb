{
  "nbformat": 4,
  "nbformat_minor": 0,
  "metadata": {
    "colab": {
      "provenance": []
    },
    "kernelspec": {
      "name": "python3",
      "display_name": "Python 3"
    },
    "language_info": {
      "name": "python"
    }
  },
  "cells": [
    {
      "cell_type": "code",
      "source": [
        "import pandas as pd\n",
        "import numpy as np"
      ],
      "metadata": {
        "id": "QJPZcD9LSGLK"
      },
      "execution_count": null,
      "outputs": []
    },
    {
      "cell_type": "code",
      "execution_count": null,
      "metadata": {
        "id": "fEsKTWaISCvQ"
      },
      "outputs": [],
      "source": [
        "def prepare_data(df,dict , name):\n",
        "    df_wsd = df.merge(dict,on='lemma_id', how='left')\n",
        "    if name == 'train' or name == 'ref_dev' or name == 'ref_test' :\n",
        "        df_wsd['label'] = np.where(df_wsd['gloss_id_x'] == df_wsd['gloss_id_y'], 1, 0)\n",
        "        df_wsd.rename(columns={'gloss_id_y':'gloss_id'},inplace=True)\n",
        "        df_wsd.drop(columns=['gloss_id_x'], axis=1, inplace=True)\n",
        "\n",
        "    return df_wsd"
      ]
    },
    {
      "cell_type": "code",
      "source": [
        "\n",
        "train_wsd = pd.read_json(f'train.json',orient='columns')\n",
        "dev_wsd = pd.read_json(f'dev.json',orient='columns')\n",
        "test_wsd = pd.read_json(f'test.json',orient='columns')\n",
        "\n",
        "ref_test_wsd = pd.read_json(f'ref_test.json',orient='columns')\n",
        "ref_dev_wsd = pd.read_json(f'ref_dev.json',orient='columns')\n",
        "dict = pd.read_json(f'dict.json',orient='columns')\n",
        "\n",
        "train_df = prepare_data(train_wsd,dict, 'train')\n",
        "dev_df = prepare_data(dev_wsd,dict, 'dev')\n",
        "test_df = prepare_data(test_wsd,dict, 'test')\n",
        "ref_dev_df = prepare_data(ref_dev_wsd,dict, 'ref_dev')\n",
        "ref_test_df = prepare_data(ref_test_wsd,dict, 'ref_test')"
      ],
      "metadata": {
        "id": "reemIsiYSFLJ"
      },
      "execution_count": null,
      "outputs": []
    }
  ]
}